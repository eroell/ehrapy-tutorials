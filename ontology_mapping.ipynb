{
 "cells": [
  {
   "cell_type": "markdown",
   "id": "47bcd090-0737-4c94-91f9-a021efd73f18",
   "metadata": {},
   "source": [
    "# Ontology mapping"
   ]
  },
  {
   "cell_type": "markdown",
   "id": "62dc1484-a7eb-4f5b-aedc-b57ce865c920",
   "metadata": {},
   "source": [
    "Ontologies are structured and standardized representations of knowledge in a specific domain, defining the concepts, relationships, and properties within that domain. They matter for Electronic Health Records (EHR) as they provide a common vocabulary and framework for organizing and integrating healthcare data. By using ontologies, EHR systems can improve interoperability, semantic understanding, and facilitate effective data exchange, leading to enhanced decision support, data analysis, and collaboration among healthcare providers and also analysts."
   ]
  },
  {
   "cell_type": "markdown",
   "id": "86af2499-df15-4dac-b80d-7db600eba205",
   "metadata": {},
   "source": [
    "ehrapy is compatible with [Bionty](https://github.com/laminlabs/bionty) which provides access to public ontologies and functionality to map values against them.\n",
    "\n",
    "Here, we'll create an artificial AnnData object containing different diseases that we will map against to ensure that all of our annotations adhere to ontologies."
   ]
  },
  {
   "cell_type": "code",
   "execution_count": 26,
   "id": "d7579faa-c9a8-48aa-b385-8ab0c9f52ddf",
   "metadata": {
    "tags": []
   },
   "outputs": [],
   "source": [
    "import anndata as ad\n",
    "import numpy as np\n",
    "import pandas as pd"
   ]
  },
  {
   "cell_type": "markdown",
   "id": "9223258c-cded-49ed-8380-93e3870b3182",
   "metadata": {},
   "source": [
    "Create an AnnData object with disease annotations in the `obs` slot."
   ]
  },
  {
   "cell_type": "code",
   "execution_count": 27,
   "id": "79e34af4-bb5d-420c-b284-66a72168d611",
   "metadata": {
    "tags": []
   },
   "outputs": [
    {
     "name": "stderr",
     "output_type": "stream",
     "text": [
      "/home/zeth/miniconda3/envs/ehrapy/lib/python3.10/site-packages/anndata/_core/anndata.py:117: ImplicitModificationWarning: Transforming to str index.\n",
      "  warnings.warn(\"Transforming to str index.\", ImplicitModificationWarning)\n"
     ]
    },
    {
     "data": {
      "text/plain": [
       "AnnData object with n_obs × n_vars = 3 × 3\n",
       "    obs: 'Immune system disorders', 'nervous system disorder', 'injury'"
      ]
     },
     "execution_count": 27,
     "metadata": {},
     "output_type": "execute_result"
    }
   ],
   "source": [
    "adata = ad.AnnData(X=np.random.random((3, 3)),\n",
    "                   var = pd.DataFrame(index=[f\"Lab value {val}\" for val in range(3)]),\n",
    "                   obs=pd.DataFrame(columns=[\"Immune system disorders\", \"nervous system disorder\", \"injury\"],\n",
    "                                    data=[[\"Rheumatoid arthritis\", \"Alzheimer's disease\", \"Fracture\"],\n",
    "                                          [\"Celiac disease\", \"Parkinson's disease\", \"Traumatic brain injury\"],\n",
    "                                          [\"Multipla sclurosis\", \"Epilepsy\", \"Fractured Femur\"]]))\n",
    "adata"
   ]
  },
  {
   "cell_type": "code",
   "execution_count": 28,
   "id": "bffd9a56-8127-45cb-bd8b-ab86cdb54d1f",
   "metadata": {
    "tags": []
   },
   "outputs": [
    {
     "data": {
      "text/html": [
       "<div>\n",
       "<style scoped>\n",
       "    .dataframe tbody tr th:only-of-type {\n",
       "        vertical-align: middle;\n",
       "    }\n",
       "\n",
       "    .dataframe tbody tr th {\n",
       "        vertical-align: top;\n",
       "    }\n",
       "\n",
       "    .dataframe thead th {\n",
       "        text-align: right;\n",
       "    }\n",
       "</style>\n",
       "<table border=\"1\" class=\"dataframe\">\n",
       "  <thead>\n",
       "    <tr style=\"text-align: right;\">\n",
       "      <th></th>\n",
       "      <th>Immune system disorders</th>\n",
       "      <th>nervous system disorder</th>\n",
       "      <th>injury</th>\n",
       "    </tr>\n",
       "  </thead>\n",
       "  <tbody>\n",
       "    <tr>\n",
       "      <th>0</th>\n",
       "      <td>Rheumatoid arthritis</td>\n",
       "      <td>Alzheimer's disease</td>\n",
       "      <td>Fracture</td>\n",
       "    </tr>\n",
       "    <tr>\n",
       "      <th>1</th>\n",
       "      <td>Celiac disease</td>\n",
       "      <td>Parkinson's disease</td>\n",
       "      <td>Traumatic brain injury</td>\n",
       "    </tr>\n",
       "    <tr>\n",
       "      <th>2</th>\n",
       "      <td>Multipla sclurosis</td>\n",
       "      <td>Epilepsy</td>\n",
       "      <td>Fractured Femur</td>\n",
       "    </tr>\n",
       "  </tbody>\n",
       "</table>\n",
       "</div>"
      ],
      "text/plain": [
       "  Immune system disorders nervous system disorder                  injury\n",
       "0    Rheumatoid arthritis     Alzheimer's disease                Fracture\n",
       "1          Celiac disease     Parkinson's disease  Traumatic brain injury\n",
       "2      Multipla sclurosis                Epilepsy         Fractured Femur"
      ]
     },
     "execution_count": 28,
     "metadata": {},
     "output_type": "execute_result"
    }
   ],
   "source": [
    "adata.obs"
   ]
  },
  {
   "cell_type": "markdown",
   "id": "716fc989-1f56-428c-8c97-6c74e1a3b3a1",
   "metadata": {},
   "source": [
    "We notice that one of our injuries does not exist and we expect to have to correct it later."
   ]
  },
  {
   "cell_type": "markdown",
   "id": "900b48e8-3785-46fe-8659-8ecc0c9fecd5",
   "metadata": {},
   "source": [
    "## Introduction to Bionty"
   ]
  },
  {
   "cell_type": "markdown",
   "id": "7c267a1f-5e68-4761-ab6f-c704c7207479",
   "metadata": {},
   "source": [
    "First we import Bionty."
   ]
  },
  {
   "cell_type": "code",
   "execution_count": 29,
   "id": "f5b2634e-b809-4115-9440-7ef40399e38e",
   "metadata": {},
   "outputs": [],
   "source": [
    "import bionty as bt"
   ]
  },
  {
   "cell_type": "markdown",
   "id": "abca4350-8799-41fe-a955-0ea96201fc7b",
   "metadata": {},
   "source": [
    "Bionty provides support for several ontologies related to diseases."
   ]
  },
  {
   "cell_type": "code",
   "execution_count": 30,
   "id": "60d2a5b4-3a89-4dc7-9101-8d0ddb1705b7",
   "metadata": {
    "tags": []
   },
   "outputs": [
    {
     "data": {
      "text/html": [
       "<div>\n",
       "<style scoped>\n",
       "    .dataframe tbody tr th:only-of-type {\n",
       "        vertical-align: middle;\n",
       "    }\n",
       "\n",
       "    .dataframe tbody tr th {\n",
       "        vertical-align: top;\n",
       "    }\n",
       "\n",
       "    .dataframe thead th {\n",
       "        text-align: right;\n",
       "    }\n",
       "</style>\n",
       "<table border=\"1\" class=\"dataframe\">\n",
       "  <thead>\n",
       "    <tr style=\"text-align: right;\">\n",
       "      <th></th>\n",
       "      <th>source</th>\n",
       "      <th>species</th>\n",
       "      <th>version</th>\n",
       "      <th>url</th>\n",
       "      <th>md5</th>\n",
       "      <th>source_name</th>\n",
       "      <th>source_website</th>\n",
       "    </tr>\n",
       "    <tr>\n",
       "      <th>entity</th>\n",
       "      <th></th>\n",
       "      <th></th>\n",
       "      <th></th>\n",
       "      <th></th>\n",
       "      <th></th>\n",
       "      <th></th>\n",
       "      <th></th>\n",
       "    </tr>\n",
       "  </thead>\n",
       "  <tbody>\n",
       "    <tr>\n",
       "      <th>Disease</th>\n",
       "      <td>mondo</td>\n",
       "      <td>all</td>\n",
       "      <td>2023-02-06</td>\n",
       "      <td>None</td>\n",
       "      <td>2b7d479d4bd02a94eab47d1c9e64c5db</td>\n",
       "      <td>Mondo Disease Ontology</td>\n",
       "      <td>https://mondo.monarchinitiative.org/</td>\n",
       "    </tr>\n",
       "    <tr>\n",
       "      <th>Disease</th>\n",
       "      <td>mondo</td>\n",
       "      <td>all</td>\n",
       "      <td>2022-10-11</td>\n",
       "      <td>None</td>\n",
       "      <td>04b808d05c2c2e81430b20a0e87552bb</td>\n",
       "      <td>Mondo Disease Ontology</td>\n",
       "      <td>https://mondo.monarchinitiative.org/</td>\n",
       "    </tr>\n",
       "    <tr>\n",
       "      <th>Disease</th>\n",
       "      <td>doid</td>\n",
       "      <td>human</td>\n",
       "      <td>2023-01-30</td>\n",
       "      <td>None</td>\n",
       "      <td>9f0c92ad2896dda82195e9226a06dc36</td>\n",
       "      <td>Human Disease Ontology</td>\n",
       "      <td>https://disease-ontology.org/</td>\n",
       "    </tr>\n",
       "  </tbody>\n",
       "</table>\n",
       "</div>"
      ],
      "text/plain": [
       "        source species     version   url                               md5  \\\n",
       "entity                                                                       \n",
       "Disease  mondo     all  2023-02-06  None  2b7d479d4bd02a94eab47d1c9e64c5db   \n",
       "Disease  mondo     all  2022-10-11  None  04b808d05c2c2e81430b20a0e87552bb   \n",
       "Disease   doid   human  2023-01-30  None  9f0c92ad2896dda82195e9226a06dc36   \n",
       "\n",
       "                    source_name                        source_website  \n",
       "entity                                                                 \n",
       "Disease  Mondo Disease Ontology  https://mondo.monarchinitiative.org/  \n",
       "Disease  Mondo Disease Ontology  https://mondo.monarchinitiative.org/  \n",
       "Disease  Human Disease Ontology         https://disease-ontology.org/  "
      ]
     },
     "execution_count": 30,
     "metadata": {},
     "output_type": "execute_result"
    }
   ],
   "source": [
    "bt.display_available_sources().loc[\"Disease\"]"
   ]
  },
  {
   "cell_type": "markdown",
   "id": "b345b269-6b21-42ed-86a3-fa3e8d468b77",
   "metadata": {},
   "source": [
    "Bionty provides three key functionalities:\n",
    "\n",
    "1. `inspect`: Check whether any of our values (here diseases) are mappable against a specified ontology.\n",
    "2. `map_synonyms`: Map values against synonyms. This is not relevant for our diseases.\n",
    "3. `curate`: Curate ontology values against the ontology to ensure compliance."
   ]
  },
  {
   "cell_type": "markdown",
   "id": "81d67ba7-b8b1-4b6b-ad42-3fe122c60705",
   "metadata": {},
   "source": [
    "## Mapping against the MONDO Disease Ontology with Bionty"
   ]
  },
  {
   "cell_type": "markdown",
   "id": "35e32be9-4ade-411d-9e0f-fff64357a338",
   "metadata": {},
   "source": [
    "We will now showcase how to access the [Mondo Disease Ontology](https://mondo.monarchinitiative.org/) with Bionty.\n",
    "The Mondo Disease Ontology (Mondo) aims to harmonize disease definitions across the world.\n",
    "\n",
    "There are several different sources available that provide definitions and data models for diseases, such as [HPO](https://hpo.jax.org/app), [OMIM](https://omim.org/), [SNOMED CT](http://www.snomed.org/), [ICD](https://www.cdc.gov/nchs/icd/icd10cm.htm), [PhenoDB](https://phenodb.org/), [MedDRA](https://www.meddra.org/), [MedGen](https://www.ncbi.nlm.nih.gov/medgen/), [ORDO](https://www.orpha.net/consor/cgi-bin/index.php?lng=EN), [DO](http://disease-ontology.org/), [GARD](https://rarediseases.info.nih.gov/), and others. However, these sources often overlap and sometimes conflict with each other, making it challenging to understand how they are related.\n",
    "\n",
    "To address the need for a unified disease terminology that offers precise equivalences between disease concepts, Mondo was developed. Mondo is designed to unify multiple disease resources using a logic-based structure."
   ]
  },
  {
   "cell_type": "markdown",
   "id": "427cc9fe-ca9c-45ae-8670-a491fbac609c",
   "metadata": {},
   "source": [
    "Bionty is centered around Bionty entity objects that provide the above introduced functionality. We'll now create a Bionty Disease object with the MONDO ontology as our source and a specific version for reproducibility."
   ]
  },
  {
   "cell_type": "code",
   "execution_count": 31,
   "id": "2cb0a9c2-0f75-448e-858d-f93f73b6cd9a",
   "metadata": {
    "tags": []
   },
   "outputs": [
    {
     "data": {
      "text/plain": [
       "Disease\n",
       "Species: all\n",
       "Source: mondo, 2023-02-06\n",
       "\n",
       "📖 Disease.df(): ontology reference table\n",
       "🔎 Disease.lookup(): autocompletion of ontology terms\n",
       "🔗 Disease.ontology: Pronto.Ontology object"
      ]
     },
     "execution_count": 31,
     "metadata": {},
     "output_type": "execute_result"
    }
   ],
   "source": [
    "disease_bionty = bt.Disease(source=\"mondo\", version=\"2023-02-06\")\n",
    "disease_bionty"
   ]
  },
  {
   "cell_type": "markdown",
   "id": "d6cd8893-bc5d-424d-872e-80242ba26c68",
   "metadata": {},
   "source": [
    "We can access the DataFrame that contains all ontology terms:"
   ]
  },
  {
   "cell_type": "code",
   "execution_count": 32,
   "id": "8bf7ef19-aea8-4fc7-9360-8e544f59d3b7",
   "metadata": {
    "tags": []
   },
   "outputs": [
    {
     "data": {
      "text/html": [
       "<div>\n",
       "<style scoped>\n",
       "    .dataframe tbody tr th:only-of-type {\n",
       "        vertical-align: middle;\n",
       "    }\n",
       "\n",
       "    .dataframe tbody tr th {\n",
       "        vertical-align: top;\n",
       "    }\n",
       "\n",
       "    .dataframe thead th {\n",
       "        text-align: right;\n",
       "    }\n",
       "</style>\n",
       "<table border=\"1\" class=\"dataframe\">\n",
       "  <thead>\n",
       "    <tr style=\"text-align: right;\">\n",
       "      <th></th>\n",
       "      <th>name</th>\n",
       "      <th>definition</th>\n",
       "      <th>synonyms</th>\n",
       "      <th>children</th>\n",
       "    </tr>\n",
       "    <tr>\n",
       "      <th>ontology_id</th>\n",
       "      <th></th>\n",
       "      <th></th>\n",
       "      <th></th>\n",
       "      <th></th>\n",
       "    </tr>\n",
       "  </thead>\n",
       "  <tbody>\n",
       "    <tr>\n",
       "      <th>http://identifiers.org/hgnc/10001</th>\n",
       "      <td>RGS5</td>\n",
       "      <td>None</td>\n",
       "      <td>None</td>\n",
       "      <td>[]</td>\n",
       "    </tr>\n",
       "    <tr>\n",
       "      <th>http://identifiers.org/hgnc/10004</th>\n",
       "      <td>RGS9</td>\n",
       "      <td>None</td>\n",
       "      <td>None</td>\n",
       "      <td>[]</td>\n",
       "    </tr>\n",
       "    <tr>\n",
       "      <th>http://identifiers.org/hgnc/10006</th>\n",
       "      <td>RHAG</td>\n",
       "      <td>None</td>\n",
       "      <td>None</td>\n",
       "      <td>[]</td>\n",
       "    </tr>\n",
       "    <tr>\n",
       "      <th>http://identifiers.org/hgnc/10012</th>\n",
       "      <td>RHO</td>\n",
       "      <td>None</td>\n",
       "      <td>None</td>\n",
       "      <td>[]</td>\n",
       "    </tr>\n",
       "    <tr>\n",
       "      <th>http://identifiers.org/hgnc/10013</th>\n",
       "      <td>GRK1</td>\n",
       "      <td>None</td>\n",
       "      <td>None</td>\n",
       "      <td>[]</td>\n",
       "    </tr>\n",
       "    <tr>\n",
       "      <th>...</th>\n",
       "      <td>...</td>\n",
       "      <td>...</td>\n",
       "      <td>...</td>\n",
       "      <td>...</td>\n",
       "    </tr>\n",
       "    <tr>\n",
       "      <th>UBERON:8410056</th>\n",
       "      <td>capillary of anorectum</td>\n",
       "      <td>None</td>\n",
       "      <td>None</td>\n",
       "      <td>[]</td>\n",
       "    </tr>\n",
       "    <tr>\n",
       "      <th>UBERON:8410057</th>\n",
       "      <td>capillary of colon</td>\n",
       "      <td>None</td>\n",
       "      <td>None</td>\n",
       "      <td>[]</td>\n",
       "    </tr>\n",
       "    <tr>\n",
       "      <th>UBERON:8420000</th>\n",
       "      <td>hair of scalp</td>\n",
       "      <td>None</td>\n",
       "      <td>None</td>\n",
       "      <td>[]</td>\n",
       "    </tr>\n",
       "    <tr>\n",
       "      <th>UBERON:8440004</th>\n",
       "      <td>laminar subdivision of the cortex</td>\n",
       "      <td>None</td>\n",
       "      <td>None</td>\n",
       "      <td>[UBERON:0002301]</td>\n",
       "    </tr>\n",
       "    <tr>\n",
       "      <th>UPHENO:0001001</th>\n",
       "      <td>phenotype</td>\n",
       "      <td>None</td>\n",
       "      <td>None</td>\n",
       "      <td>[]</td>\n",
       "    </tr>\n",
       "  </tbody>\n",
       "</table>\n",
       "<p>41623 rows × 4 columns</p>\n",
       "</div>"
      ],
      "text/plain": [
       "                                                                name  \\\n",
       "ontology_id                                                            \n",
       "http://identifiers.org/hgnc/10001                               RGS5   \n",
       "http://identifiers.org/hgnc/10004                               RGS9   \n",
       "http://identifiers.org/hgnc/10006                               RHAG   \n",
       "http://identifiers.org/hgnc/10012                                RHO   \n",
       "http://identifiers.org/hgnc/10013                               GRK1   \n",
       "...                                                              ...   \n",
       "UBERON:8410056                                capillary of anorectum   \n",
       "UBERON:8410057                                    capillary of colon   \n",
       "UBERON:8420000                                         hair of scalp   \n",
       "UBERON:8440004                     laminar subdivision of the cortex   \n",
       "UPHENO:0001001                                             phenotype   \n",
       "\n",
       "                                  definition synonyms          children  \n",
       "ontology_id                                                              \n",
       "http://identifiers.org/hgnc/10001       None     None                []  \n",
       "http://identifiers.org/hgnc/10004       None     None                []  \n",
       "http://identifiers.org/hgnc/10006       None     None                []  \n",
       "http://identifiers.org/hgnc/10012       None     None                []  \n",
       "http://identifiers.org/hgnc/10013       None     None                []  \n",
       "...                                      ...      ...               ...  \n",
       "UBERON:8410056                          None     None                []  \n",
       "UBERON:8410057                          None     None                []  \n",
       "UBERON:8420000                          None     None                []  \n",
       "UBERON:8440004                          None     None  [UBERON:0002301]  \n",
       "UPHENO:0001001                          None     None                []  \n",
       "\n",
       "[41623 rows x 4 columns]"
      ]
     },
     "execution_count": 32,
     "metadata": {},
     "output_type": "execute_result"
    }
   ],
   "source": [
    "disease_bionty.df()"
   ]
  },
  {
   "cell_type": "markdown",
   "id": "c2dc951a-5e92-4753-a364-0bc5a87e0dd5",
   "metadata": {},
   "source": [
    "Let's inspect all of our \"Immune system disorders\" to learn which terms map against the MONDO Disease ontology.\n",
    "We "
   ]
  },
  {
   "cell_type": "code",
   "execution_count": 33,
   "id": "60563f60-b573-4182-9bae-9825ada8f943",
   "metadata": {
    "tags": []
   },
   "outputs": [
    {
     "name": "stdout",
     "output_type": "stream",
     "text": [
      "✅ 1 terms (33.3%) are mapped.\n",
      "🔶 2 terms (66.7%) are not mapped.\n"
     ]
    },
    {
     "data": {
      "text/html": [
       "<div>\n",
       "<style scoped>\n",
       "    .dataframe tbody tr th:only-of-type {\n",
       "        vertical-align: middle;\n",
       "    }\n",
       "\n",
       "    .dataframe tbody tr th {\n",
       "        vertical-align: top;\n",
       "    }\n",
       "\n",
       "    .dataframe thead th {\n",
       "        text-align: right;\n",
       "    }\n",
       "</style>\n",
       "<table border=\"1\" class=\"dataframe\">\n",
       "  <thead>\n",
       "    <tr style=\"text-align: right;\">\n",
       "      <th></th>\n",
       "      <th>__mapped__</th>\n",
       "    </tr>\n",
       "    <tr>\n",
       "      <th>Immune system disorders</th>\n",
       "      <th></th>\n",
       "    </tr>\n",
       "  </thead>\n",
       "  <tbody>\n",
       "    <tr>\n",
       "      <th>Rheumatoid arthritis</th>\n",
       "      <td>True</td>\n",
       "    </tr>\n",
       "    <tr>\n",
       "      <th>Celiac disease</th>\n",
       "      <td>False</td>\n",
       "    </tr>\n",
       "    <tr>\n",
       "      <th>Multipla sclurosis</th>\n",
       "      <td>False</td>\n",
       "    </tr>\n",
       "  </tbody>\n",
       "</table>\n",
       "</div>"
      ],
      "text/plain": [
       "                         __mapped__\n",
       "Immune system disorders            \n",
       "Rheumatoid arthritis           True\n",
       "Celiac disease                False\n",
       "Multipla sclurosis            False"
      ]
     },
     "execution_count": 33,
     "metadata": {},
     "output_type": "execute_result"
    }
   ],
   "source": [
    "disease_bionty.inspect(adata.obs[\"Immune system disorders\"], field=disease_bionty.name, return_df=True)"
   ]
  },
  {
   "cell_type": "markdown",
   "id": "6d0383e6-09db-43f8-a52d-471046ebacdc",
   "metadata": {},
   "source": [
    "Apparently \"Rheumatoid arthritis\" could be mapped to the MONDO Disease ontology, but \"Celiac disease\" and \"Multiple sclerosis\" could not."
   ]
  },
  {
   "cell_type": "markdown",
   "id": "de59a7a1-8ccf-4b7c-a6e5-16bd2ca2e126",
   "metadata": {},
   "source": [
    "We can use Bionty's lookup functionality to try to find the corresponding term in the MONDO Disease ontology for the terms that could not be mapped using auto-complete.\n",
    "For this purpose we create a lookup object."
   ]
  },
  {
   "cell_type": "code",
   "execution_count": 34,
   "id": "5a570f24-44b4-43ad-b7ee-f1ba3bf922c9",
   "metadata": {},
   "outputs": [],
   "source": [
    "disease_bionty_lookup = disease_bionty.lookup()"
   ]
  },
  {
   "cell_type": "code",
   "execution_count": 35,
   "id": "aa16c040-961d-4905-affc-297d66cc1a9c",
   "metadata": {
    "tags": []
   },
   "outputs": [
    {
     "data": {
      "text/plain": [
       "disease(ontology_id='MONDO:0005130', name='celiac disease', definition='An Autoimmune Genetic Disorder With An Unknown Pattern Of Inheritance That Primarily Affects The Digestive Tract. It Is Caused By Intolerance To Dietary Gluten. Consumption Of Gluten Protein Triggers An Immune Response Which Damages Small Intestinal Villi And Prevents Adequate Absorption Of Nutrients. Clinical Signs Include Abdominal Cramping, Diarrhea Or Constipation And Weight Loss. If Untreated, The Clinical Course May Progress To Malnutrition, Anemia, Osteoporosis And An Increased Risk Of Intestinal Malignancies. However, The Prognosis Is Favorable With Successful Avoidance Of Gluten In The Diet.', synonyms='gluten-induced enteropathy|celiac sprue|idiopathic steatorrhea|gluten intolerance|coeliac disease|non tropical sprue', children=array(['MONDO:0800124'], dtype=object))"
      ]
     },
     "execution_count": 35,
     "metadata": {},
     "output_type": "execute_result"
    }
   ],
   "source": [
    "disease_bionty_lookup.celiac_disease"
   ]
  },
  {
   "cell_type": "markdown",
   "id": "53000247-6061-47c8-8f7d-794d9b8fc650",
   "metadata": {},
   "source": [
    "We found a match! Let's look at the definition of our result."
   ]
  },
  {
   "cell_type": "code",
   "execution_count": 36,
   "id": "87ef3eba-be0c-4816-95eb-5175d78250d9",
   "metadata": {
    "tags": []
   },
   "outputs": [
    {
     "data": {
      "text/plain": [
       "'An Autoimmune Genetic Disorder With An Unknown Pattern Of Inheritance That Primarily Affects The Digestive Tract. It Is Caused By Intolerance To Dietary Gluten. Consumption Of Gluten Protein Triggers An Immune Response Which Damages Small Intestinal Villi And Prevents Adequate Absorption Of Nutrients. Clinical Signs Include Abdominal Cramping, Diarrhea Or Constipation And Weight Loss. If Untreated, The Clinical Course May Progress To Malnutrition, Anemia, Osteoporosis And An Increased Risk Of Intestinal Malignancies. However, The Prognosis Is Favorable With Successful Avoidance Of Gluten In The Diet.'"
      ]
     },
     "execution_count": 36,
     "metadata": {},
     "output_type": "execute_result"
    }
   ],
   "source": [
    "disease_bionty_lookup.celiac_disease.definition"
   ]
  },
  {
   "cell_type": "markdown",
   "id": "168311ef-c77c-42cb-9faf-587150c152cd",
   "metadata": {},
   "source": [
    "This is exactly what we've been looking for. To find a final match for \"Multiple sclerosis\" we use Bionty's fuzzy matching."
   ]
  },
  {
   "cell_type": "code",
   "execution_count": 42,
   "id": "cdb65c6e-92b9-494e-96fd-f566cd68074d",
   "metadata": {
    "tags": []
   },
   "outputs": [
    {
     "ename": "KeyError",
     "evalue": "'[\\'multiple endocrine neoplasia type 1|multiple endocrine neoplasia type 1\\', \\'Leber congenital amaurosis 5|Leber congenital amaurosis 5\\', \\'microvillus inclusion disease|microvillus inclusion disease\\', \\'Nephronophthisis|nephronophthisis 1\\', \\'periostitis|periostitis\\', \\'neuronal ceroid lipofuscinosis 8|neuronal ceroid lipofuscinosis 8\\', \\'neuronal ceroid lipofuscinosis 3|neuronal ceroid lipofuscinosis 3\\', \\'Rhipicephalus <genus>|Rhipicephalus <subgenus>\\', \\'mast syndrome|mast syndrome\\', \\'enuresis|enuresis\\', \\'Gonadal dysgenesis|45,X/46,XY mixed gonadal dysgenesis\\', \\'Anopheles funestus|Anopheles gambiae\\', \\'Meckel diverticulum|Meckel diverticulum\\', \\'pneumocystosis|pneumocystosis\\', \\'von Hippel-Lindau disease|von Hippel-Lindau disease\\', \\'pulmonary arterial hypertension|pulmonary arterial hypertension\\', \\'material anatomical entity|material anatomical entity\\', \\'Bos taurus|Bos taurus\\', \\'Duchenne muscular dystrophy|Duchenne muscular dystrophy\\', \\'familial hemophagocytic lymphohistiocytosis type 1|familial hemophagocytic lymphohistiocytosis type 1\\', \\'late infantile neuronal ceroid lipofuscinosis|neuronal ceroid lipofuscinosis, late infantile\\', \\'immaterial anatomical entity|immaterial anatomical entity\\', \\'Bardet-Biedl syndrome 4|Bardet-Biedl syndrome 4\\', \\'Bardet-Biedl syndrome 1|Bardet-Biedl syndrome 1\\', \\'Bardet-Biedl syndrome 2|Bardet-Biedl syndrome 2\\', \\'Bardet-Biedl syndrome 5|Bardet-Biedl syndrome 5\\', \\'Bardet-Biedl syndrome 7|Bardet-Biedl syndrome 7\\', \\'Bardet-Biedl syndrome 9|Bardet-Biedl syndrome 9\\', \\'persistent truncus arteriosus|persistent truncus arteriosus\\', \\'hard palate cancer|hard palate cancer\\', \\'nephronophthisis 4|nephronophthisis 4\\', \\'neurofibromatosis type 2|neurofibromatosis type 2\\', \\'neurofibromatosis type 1|neurofibromatosis type 1\\', \\'nephronophthisis 3|nephronophthisis 3\\', \\'nephronophthisis 1|nephronophthisis 1\\', \\'Wolfram syndrome 1|Wolfram syndrome 1\\', \\'oculocutaneous albinism type 2|oculocutaneous albinism type 2\\', \\'Bardet-Biedl syndrome 12|Bardet-Biedl syndrome 12\\', \\'Bardet-Biedl syndrome 10|Bardet-Biedl syndrome 10\\', \\'Thiel-Behnke corneal dystrophy|Thiel-Behnke corneal dystrophy\\', \\'Fanconi anemia complementation group I|Fanconi anemia complementation group I\\', \\'quality|quality\\', \\'oculocerebrorenal syndrome|oculocerebrorenal syndrome\\', \\'IgE responsiveness, atopic|IgE responsiveness, atopic\\', \\'orofaciodigital syndrome I|orofaciodigital syndrome I\\', \\'pericardial effusion|pericardial effusion\\', \\'alpha-methylacyl-CoA racemase deficiency|alpha-methylacyl-CoA racemase deficiency\\', \\'circular|circular\\', \\'hypersensitivity pneumonitis|hypersensitivity pneumonitis\\', \\'reproductive behavior|reproductive behavior\\', \\'xeroderma pigmentosum group C|xeroderma pigmentosum group C\\', \\'type IV hypersensitivity|type IV hypersensitivity disease\\', \\'xeroderma pigmentosum group A|xeroderma pigmentosum group A\\', \\'chronic eosinophilic leukemia|chronic eosinophilic leukemia\\', \\'hepatitis|hepatitis\\', \\'Drosophila <flies,genus>|Drosophila melanogaster\\', \\'elevation|elevation\\', \\'Neoplasm of the ear|ear neoplasm\\', \\'social behavior|social behavior\\', \\'Meckel syndrome, type 1|Meckel syndrome, type 1\\', \\'carnitine palmitoyltransferase II deficiency|carnitine palmitoyltransferase II deficiency\\', \\'Fanconi anemia complementation group F|Fanconi anemia complementation group F\\', \\'Fanconi anemia complementation group G|Fanconi anemia complementation group G\\', \\'Fanconi anemia complementation group E|Fanconi anemia complementation group E|Fanconi anemia complementation group E\\', \\'Fanconi anemia complementation group C|Fanconi anemia complementation group C\\', \\'Fanconi anemia complementation group B|Fanconi anemia complementation group B\\', \\'Fanconi anemia complementation group A|Fanconi anemia complementation group A\\', \\'Ebstein anomaly of the tricuspid valve|Ebstein anomaly\\', \\'Wieacker-Wolff syndrome|mast cell sarcoma\\', \\'Papillon-Lefevre disease|lateral sclerosis|pleomorphic liposarcoma\\', \\'membrane attack complex|microphthalmia, isolated, with coloboma\\', \\'Wiskott-Aldrich syndrome|Wiskott-Aldrich syndrome\\', \\'thyroid hyalinizing trabecular adenoma|thyroid hyalinizing trabecular adenoma\\', \\'Fanconi anemia complementation group L|Fanconi anemia complementation group L\\', \\'Sjogren-Larsson syndrome|shrinking lung syndrome\\', \\'Silver-Russell syndrome|syndromic X-linked intellectual disability Snyder type\\', \\'sick sinus syndrome|hypoparathyroidism-retardation-dysmorphism syndrome\\', \\'Coffin-Siris syndrome|eosinophilic granulomatosis with polyangiitis\\', \\'Mus <genus>|Mus <subgenus>\\', \\'anatomical entity|anatomical entity\\', \\'congenital rubella syndrome|cytokine release syndrome\\', \\'heart lymphoma|plasma cell leukemia\\', \\'capillary leak syndrome|Coffin-Lowry syndrome\\', \\'meconium aspiration syndrome|macrophage activation syndrome|McCune-Albright syndrome\\', \\'hereditary spastic paraplegia 7|hereditary spastic paraplegia 7\\', \\'acute chest syndrome|acrocallosal syndrome|acrocephalosyndactyly\\', \\'hepatitis D virus infection|Hepatitis delta virus\\', \\'Fanconi anemia complementation group D2|Fanconi anemia complementation group D2\\', \\'hereditary retinoblastoma|hereditary retinoblastoma\\', \\'agammaglobulinemia|agammaglobulinemia\\', \\'Phlebotomus <genus>|Phlebotomus <subgenus>\\', \\'cerebral cavernous malformation 2|cerebral cavernous malformation 2\\', \\'partial atrioventricular canal|atrial septal defect, ostium primum type\\', \\'Suidae|Sus scrofa\\', \\'familial isolated pituitary adenoma|gastrointestinal defects and immunodeficiency syndrome 1\\', \\'PLA2G6-associated neurodegeneration|neurodegeneration with brain iron accumulation 2A\\', \\'immunodeficiency 19|immunodeficiency 19\\', \\'polycystic kidney disease 2|polycystic kidney disease 2\\', \\'polycystic kidney disease 1|polycystic kidney disease 1\\', \\'epididymitis|epididymitis\\', \\'Lyme disease|Lyme disease\\', \\'Mus <genus>|Mus musculus\\', \\'autism susceptibility 1|autism, susceptibility to, 1\\', \\'choroideremia|choroideremia\\', \\'adrenomyeloneuropathy|adrenomyeloneuropathy\\', \\'brachial amyotrophic diplegia|brachial amyotrophic diplegia\\', \\'Niemann-Pick disease, type C2|Niemann-Pick disease, type C2\\', \\'Chondrichthyes|Actinopterygii\\', \\'Usher syndrome type 2A|Usher syndrome type 2A\\', \\'retinitis pigmentosa 2|retinitis pigmentosa 2\\', \\'retinitis pigmentosa 1|retinitis pigmentosa 1\\', \\'Usher syndrome type 1G|Usher syndrome type 1G\\', \\'retinitis pigmentosa 9|retinitis pigmentosa 9\\', \\'spinocerebellar ataxia type 15/16|autosomal recessive spinocerebellar ataxia 16\\', \\'Usher syndrome type 1C|Usher syndrome type 1C\\', \\'Ebstein anomaly|Ebstein anomaly\\', \\'G6PD deficiency|G6PD deficiency\\', \\'hirudiniasis|Hirudinea\\', \\'ammonia|ammonia|ammonia\\', \\'neuron projection bundle|neuron projection bundle\\', \\'Central nervous system cyst|central nervous system cyst\\', \\'Brain atrophy|cerebellar degeneration\\', \\'Pediculidae|Pediculus humanus\\', \\'Abnormality of the pituitary gland|pituitary gland disorder\\', \\'behavior|behavior process\\', \\'Timothy syndrome|virus-associated trichodysplasia spinulosa\\', \\'Langerhans cell|laryngotracheoesophageal cleft\\', \\'Bartter disease type 4a|Bartter disease type 4a\\', \\'acute kidney failure|rheumatic fever\\', \\'lymphocytic choriomeningitis|mantle cell lymphoma\\', \\'macular corneal dystrophy|multiple carboxylase deficiency|multicentric Castleman disease|multicentric Castleman disease, susceptibility to\\', \\'X-linked erythropoietic protoporphyria|X-linked lymphoproliferative syndrome\\', \\'septooptic dysplasia|segmental odontomaxillary dysplasia\\', \\'Autistic behavior|atrial septal defect\\', \\'myopathy, lactic acidosis, and sideroblastic anemia|multiple system atrophy\\', \\'premature centromere division|primary ciliary dyskinesia|paraneoplastic neurologic syndrome\\', \\'undifferentiated (embryonal) sarcoma|undifferentiated embryonal sarcoma of the liver\\', \\'arthrogryposis, distal, type 1A|arthrogryposis multiplex congenita\\', \\'pulmonary interstitial glycogenosis|Sus scrofa\\', \\'well-differentiated liposarcoma|atypical lipomatous tumor\\', \\'Schwartz-Jampel syndrome|Mac-Leod-Swyer-James-Syndrome\\', \\'childhood apraxia of speech|cold agglutinin disease\\', \\'Langerhans cell histiocytosis|lissencephaly with cerebellar hypoplasia\\', \\'pustulosis palmaris et plantaris|lichen planopilaris\\', \\'chylomicron retention disease|cone-rod dystrophy\\', \\'paroxysmal cold hemoglobinuria|pontocerebellar hypoplasia\\', \\'Chediak-Higashi syndrome|cannabinoid hyperemesis syndrome\\', \\'Systemic lupus erythematosus|systemic lupus erythematosus\\', \\'Shprintzen-Goldberg syndrome|Schinzel-Giedion syndrome\\', \\'Laurence-Moon syndrome|limb-mammary syndrome\\', \\'severe combined immunodeficiency, autosomal recessive, T cell-negative, B cell-negative, NK cell-negative, due to adenosine deaminase deficiency|severe combined immunodeficiency, autosomal recessive, T cell-negative, B cell-negative, NK cell-negative, due to adenosine deaminase deficiency\\', \\'chronic inflammatory demyelinating polyradiculoneuropathy|polyneuropathy, inflammatory demyelinating, chronic\\', \\'role|role\\', \\'chronic obstructive pulmonary disease|decreased temperature\\', \\'transposition of the great arteries, dextro-looped|dextro-looped transposition of the great arteries\\', \\'alcohol-related birth defect|fetal alcohol syndrome\\', \\'X-linked cone-rod dystrophy 1|cone dystrophy 1, X-linked\\', \\'Kennedy disease|bulbospinal muscular atrophy\\', \\'Guillain-Barre syndrome, familial|acute inflammatory demyelinating polyradiculoneuropathy\\', \\'interstitial granulomatous dermatitis with arthritis|anterior segment dysgenesis 3\\', \\'hyperimmunoglobulinemia D with periodic fever|mevalonic aciduria\\', \\'GNE myopathy|myopathy, distal, with rimmed vacuoles\\', \\'Rattus|Rattus norvegicus\\', \\'ocular albinism|X-linked recessive ocular albinism\\', \\'testicular germ cell tumor|tenosynovial giant cell tumor, diffuse type\\', \\'3-methylglutaconic aciduria type 1|Imerslund-Grasbeck syndrome type 1\\', \\'acene|acene\\', \\'horizontal gaze palsy with progressive scoliosis|gaze palsy, familial horizontal, with progressive scoliosis 1\\', \\'autosomal recessive pseudohypoaldosteronism type 1|pseudohypoaldosteronism type 1\\', \\'Culex <subgenus>|Culex <genus>\\', \\'Dextrotransposition of the great arteries|dextro-looped transposition of the great arteries\\', \\'Charcot-Marie-Tooth disease axonal type 2T|Charcot-Marie-Tooth disease type 2T\\', \\'Charcot-Marie-Tooth disease X-linked recessive 4|Charcot-Marie-Tooth disease type X\\', \\'anthrax infection|Bacillus anthracis\\', \\'azanide|azanide\\', \\'food additive|food additive\\', \\'diabetes mellitus|dermatomyositis\\', \"Kaposi\\'s sarcoma|Kindler syndrome\", \\'Ewing sarcoma|epithelioid sarcoma\\', \\'osteochondritis dissecans|short stature and advanced bone age, with or without early-onset osteoarthritis and/or osteochondritis dissecans\\', \\'mycosis fungoides|myotonia fluctuans\\', \\'polymyositis|pyomyositis\\', \\'Rheumatoid arthritis|myelodysplastic syndrome with single lineage dysplasia|rheumatoid arthritis\\', \\'hereditary spastic paraplegia|immunoglobulin a vasculitis\\', \\'conventional dendritic cell|collecting duct carcinoma\\', \\'irritable bowel syndrome|inflammatory bowel disease\\', \\'campomelic dysplasia|congenital muscular dystrophy|coronary microvascular disorder\\', \\'obsessive-compulsive personality disorder|osteochondritis dissecans\\', \\'vitelliform macular dystrophy 2|Becker muscular dystrophy\\', \\'neuroendocrine carcinoma|necrotizing enterocolitis\\', \\'borderline personality disorder|bronchopulmonary dysplasia\\', \\'autosomal recessive inherited pseudoxanthoma elasticum|pseudoxanthoma elasticum (inherited or acquired)\\', \\'renal cell carcinoma|renal cell adenocarcinoma|refractory cytopenia of childhood\\', \\'congenital contractural arachnodactyly|cholangiocarcinoma\\', \\'Waterhouse-Friderichsen syndrome|Wolfram syndrome\\', \\'osteofibrous dysplasia|orofaciodigital syndrome\\', \\'autoimmune hemolytic anemia|acquired hemophilia A\\', \\'granulomatous disease, chronic, X-linked|chronic granulomatous disease\\', \\'temporomandibular joint disorder|transient myeloproliferative syndrome|tibial muscular dystrophy\\', \\'thymic epithelial neoplasm|toxic epidermal necrolysis\\', \\'Fuchs heterochromic iridocyclitis|familial hyperinsulinism\\', \\'Congestive heart failure|congestive heart failure\\', \\'hereditary diffuse gastric adenocarcinoma|CDH1-related diffuse gastric and lobular breast cancer\\'] not in index'",
     "output_type": "error",
     "traceback": [
      "\u001b[0;31m---------------------------------------------------------------------------\u001b[0m",
      "\u001b[0;31mKeyError\u001b[0m                                  Traceback (most recent call last)",
      "Cell \u001b[0;32mIn[42], line 1\u001b[0m\n\u001b[0;32m----> 1\u001b[0m \u001b[43mdisease_bionty\u001b[49m\u001b[38;5;241;43m.\u001b[39;49m\u001b[43mfuzzy_match\u001b[49m\u001b[43m(\u001b[49m\u001b[38;5;124;43m\"\u001b[39;49m\u001b[38;5;124;43mMultipla sclurosis\u001b[39;49m\u001b[38;5;124;43m\"\u001b[39;49m\u001b[43m,\u001b[49m\u001b[43m \u001b[49m\u001b[43mfield\u001b[49m\u001b[38;5;241;43m=\u001b[39;49m\u001b[43mdisease_bionty\u001b[49m\u001b[38;5;241;43m.\u001b[39;49m\u001b[43mname\u001b[49m\u001b[43m,\u001b[49m\u001b[43m \u001b[49m\u001b[43mcase_sensitive\u001b[49m\u001b[38;5;241;43m=\u001b[39;49m\u001b[38;5;28;43;01mFalse\u001b[39;49;00m\u001b[43m)\u001b[49m\n",
      "File \u001b[0;32m~/miniconda3/envs/ehrapy/lib/python3.10/site-packages/bionty/_bionty.py:394\u001b[0m, in \u001b[0;36mBionty.fuzzy_match\u001b[0;34m(self, string, field, synonyms_field, case_sensitive, return_ranked_results)\u001b[0m\n\u001b[1;32m    388\u001b[0m df_exp[\u001b[38;5;124m\"\u001b[39m\u001b[38;5;124m__ratio__\u001b[39m\u001b[38;5;124m\"\u001b[39m] \u001b[38;5;241m=\u001b[39m _fuzz_ratio(\n\u001b[1;32m    389\u001b[0m     string\u001b[38;5;241m=\u001b[39mstring, iterable\u001b[38;5;241m=\u001b[39mdf_exp[target_column], case_sensitive\u001b[38;5;241m=\u001b[39mcase_sensitive\n\u001b[1;32m    390\u001b[0m )\n\u001b[1;32m    391\u001b[0m df_exp_grouped \u001b[38;5;241m=\u001b[39m (\n\u001b[1;32m    392\u001b[0m     df_exp\u001b[38;5;241m.\u001b[39mgroupby(field_str)\u001b[38;5;241m.\u001b[39mmax()\u001b[38;5;241m.\u001b[39msort_values(\u001b[38;5;124m\"\u001b[39m\u001b[38;5;124m__ratio__\u001b[39m\u001b[38;5;124m\"\u001b[39m, ascending\u001b[38;5;241m=\u001b[39m\u001b[38;5;28;01mFalse\u001b[39;00m)\n\u001b[1;32m    393\u001b[0m )\n\u001b[0;32m--> 394\u001b[0m df_scored \u001b[38;5;241m=\u001b[39m \u001b[43mdf\u001b[49m\u001b[38;5;241;43m.\u001b[39;49m\u001b[43mset_index\u001b[49m\u001b[43m(\u001b[49m\u001b[43mfield_str\u001b[49m\u001b[43m)\u001b[49m\u001b[38;5;241;43m.\u001b[39;49m\u001b[43mloc\u001b[49m\u001b[43m[\u001b[49m\u001b[43mdf_exp_grouped\u001b[49m\u001b[38;5;241;43m.\u001b[39;49m\u001b[43mindex\u001b[49m\u001b[43m]\u001b[49m\n\u001b[1;32m    395\u001b[0m df_scored[\u001b[38;5;124m\"\u001b[39m\u001b[38;5;124m__ratio__\u001b[39m\u001b[38;5;124m\"\u001b[39m] \u001b[38;5;241m=\u001b[39m df_exp_grouped[\u001b[38;5;124m\"\u001b[39m\u001b[38;5;124m__ratio__\u001b[39m\u001b[38;5;124m\"\u001b[39m]\n\u001b[1;32m    397\u001b[0m \u001b[38;5;28;01mif\u001b[39;00m return_ranked_results:\n",
      "File \u001b[0;32m~/miniconda3/envs/ehrapy/lib/python3.10/site-packages/pandas/core/indexing.py:1103\u001b[0m, in \u001b[0;36m_LocationIndexer.__getitem__\u001b[0;34m(self, key)\u001b[0m\n\u001b[1;32m   1100\u001b[0m axis \u001b[38;5;241m=\u001b[39m \u001b[38;5;28mself\u001b[39m\u001b[38;5;241m.\u001b[39maxis \u001b[38;5;129;01mor\u001b[39;00m \u001b[38;5;241m0\u001b[39m\n\u001b[1;32m   1102\u001b[0m maybe_callable \u001b[38;5;241m=\u001b[39m com\u001b[38;5;241m.\u001b[39mapply_if_callable(key, \u001b[38;5;28mself\u001b[39m\u001b[38;5;241m.\u001b[39mobj)\n\u001b[0;32m-> 1103\u001b[0m \u001b[38;5;28;01mreturn\u001b[39;00m \u001b[38;5;28;43mself\u001b[39;49m\u001b[38;5;241;43m.\u001b[39;49m\u001b[43m_getitem_axis\u001b[49m\u001b[43m(\u001b[49m\u001b[43mmaybe_callable\u001b[49m\u001b[43m,\u001b[49m\u001b[43m \u001b[49m\u001b[43maxis\u001b[49m\u001b[38;5;241;43m=\u001b[39;49m\u001b[43maxis\u001b[49m\u001b[43m)\u001b[49m\n",
      "File \u001b[0;32m~/miniconda3/envs/ehrapy/lib/python3.10/site-packages/pandas/core/indexing.py:1332\u001b[0m, in \u001b[0;36m_LocIndexer._getitem_axis\u001b[0;34m(self, key, axis)\u001b[0m\n\u001b[1;32m   1329\u001b[0m     \u001b[38;5;28;01mif\u001b[39;00m \u001b[38;5;28mhasattr\u001b[39m(key, \u001b[38;5;124m\"\u001b[39m\u001b[38;5;124mndim\u001b[39m\u001b[38;5;124m\"\u001b[39m) \u001b[38;5;129;01mand\u001b[39;00m key\u001b[38;5;241m.\u001b[39mndim \u001b[38;5;241m>\u001b[39m \u001b[38;5;241m1\u001b[39m:\n\u001b[1;32m   1330\u001b[0m         \u001b[38;5;28;01mraise\u001b[39;00m \u001b[38;5;167;01mValueError\u001b[39;00m(\u001b[38;5;124m\"\u001b[39m\u001b[38;5;124mCannot index with multidimensional key\u001b[39m\u001b[38;5;124m\"\u001b[39m)\n\u001b[0;32m-> 1332\u001b[0m     \u001b[38;5;28;01mreturn\u001b[39;00m \u001b[38;5;28;43mself\u001b[39;49m\u001b[38;5;241;43m.\u001b[39;49m\u001b[43m_getitem_iterable\u001b[49m\u001b[43m(\u001b[49m\u001b[43mkey\u001b[49m\u001b[43m,\u001b[49m\u001b[43m \u001b[49m\u001b[43maxis\u001b[49m\u001b[38;5;241;43m=\u001b[39;49m\u001b[43maxis\u001b[49m\u001b[43m)\u001b[49m\n\u001b[1;32m   1334\u001b[0m \u001b[38;5;66;03m# nested tuple slicing\u001b[39;00m\n\u001b[1;32m   1335\u001b[0m \u001b[38;5;28;01mif\u001b[39;00m is_nested_tuple(key, labels):\n",
      "File \u001b[0;32m~/miniconda3/envs/ehrapy/lib/python3.10/site-packages/pandas/core/indexing.py:1272\u001b[0m, in \u001b[0;36m_LocIndexer._getitem_iterable\u001b[0;34m(self, key, axis)\u001b[0m\n\u001b[1;32m   1269\u001b[0m \u001b[38;5;28mself\u001b[39m\u001b[38;5;241m.\u001b[39m_validate_key(key, axis)\n\u001b[1;32m   1271\u001b[0m \u001b[38;5;66;03m# A collection of keys\u001b[39;00m\n\u001b[0;32m-> 1272\u001b[0m keyarr, indexer \u001b[38;5;241m=\u001b[39m \u001b[38;5;28;43mself\u001b[39;49m\u001b[38;5;241;43m.\u001b[39;49m\u001b[43m_get_listlike_indexer\u001b[49m\u001b[43m(\u001b[49m\u001b[43mkey\u001b[49m\u001b[43m,\u001b[49m\u001b[43m \u001b[49m\u001b[43maxis\u001b[49m\u001b[43m)\u001b[49m\n\u001b[1;32m   1273\u001b[0m \u001b[38;5;28;01mreturn\u001b[39;00m \u001b[38;5;28mself\u001b[39m\u001b[38;5;241m.\u001b[39mobj\u001b[38;5;241m.\u001b[39m_reindex_with_indexers(\n\u001b[1;32m   1274\u001b[0m     {axis: [keyarr, indexer]}, copy\u001b[38;5;241m=\u001b[39m\u001b[38;5;28;01mTrue\u001b[39;00m, allow_dups\u001b[38;5;241m=\u001b[39m\u001b[38;5;28;01mTrue\u001b[39;00m\n\u001b[1;32m   1275\u001b[0m )\n",
      "File \u001b[0;32m~/miniconda3/envs/ehrapy/lib/python3.10/site-packages/pandas/core/indexing.py:1462\u001b[0m, in \u001b[0;36m_LocIndexer._get_listlike_indexer\u001b[0;34m(self, key, axis)\u001b[0m\n\u001b[1;32m   1459\u001b[0m ax \u001b[38;5;241m=\u001b[39m \u001b[38;5;28mself\u001b[39m\u001b[38;5;241m.\u001b[39mobj\u001b[38;5;241m.\u001b[39m_get_axis(axis)\n\u001b[1;32m   1460\u001b[0m axis_name \u001b[38;5;241m=\u001b[39m \u001b[38;5;28mself\u001b[39m\u001b[38;5;241m.\u001b[39mobj\u001b[38;5;241m.\u001b[39m_get_axis_name(axis)\n\u001b[0;32m-> 1462\u001b[0m keyarr, indexer \u001b[38;5;241m=\u001b[39m \u001b[43max\u001b[49m\u001b[38;5;241;43m.\u001b[39;49m\u001b[43m_get_indexer_strict\u001b[49m\u001b[43m(\u001b[49m\u001b[43mkey\u001b[49m\u001b[43m,\u001b[49m\u001b[43m \u001b[49m\u001b[43maxis_name\u001b[49m\u001b[43m)\u001b[49m\n\u001b[1;32m   1464\u001b[0m \u001b[38;5;28;01mreturn\u001b[39;00m keyarr, indexer\n",
      "File \u001b[0;32m~/miniconda3/envs/ehrapy/lib/python3.10/site-packages/pandas/core/indexes/base.py:5876\u001b[0m, in \u001b[0;36mIndex._get_indexer_strict\u001b[0;34m(self, key, axis_name)\u001b[0m\n\u001b[1;32m   5873\u001b[0m \u001b[38;5;28;01melse\u001b[39;00m:\n\u001b[1;32m   5874\u001b[0m     keyarr, indexer, new_indexer \u001b[38;5;241m=\u001b[39m \u001b[38;5;28mself\u001b[39m\u001b[38;5;241m.\u001b[39m_reindex_non_unique(keyarr)\n\u001b[0;32m-> 5876\u001b[0m \u001b[38;5;28;43mself\u001b[39;49m\u001b[38;5;241;43m.\u001b[39;49m\u001b[43m_raise_if_missing\u001b[49m\u001b[43m(\u001b[49m\u001b[43mkeyarr\u001b[49m\u001b[43m,\u001b[49m\u001b[43m \u001b[49m\u001b[43mindexer\u001b[49m\u001b[43m,\u001b[49m\u001b[43m \u001b[49m\u001b[43maxis_name\u001b[49m\u001b[43m)\u001b[49m\n\u001b[1;32m   5878\u001b[0m keyarr \u001b[38;5;241m=\u001b[39m \u001b[38;5;28mself\u001b[39m\u001b[38;5;241m.\u001b[39mtake(indexer)\n\u001b[1;32m   5879\u001b[0m \u001b[38;5;28;01mif\u001b[39;00m \u001b[38;5;28misinstance\u001b[39m(key, Index):\n\u001b[1;32m   5880\u001b[0m     \u001b[38;5;66;03m# GH 42790 - Preserve name from an Index\u001b[39;00m\n",
      "File \u001b[0;32m~/miniconda3/envs/ehrapy/lib/python3.10/site-packages/pandas/core/indexes/base.py:5938\u001b[0m, in \u001b[0;36mIndex._raise_if_missing\u001b[0;34m(self, key, indexer, axis_name)\u001b[0m\n\u001b[1;32m   5935\u001b[0m     \u001b[38;5;28;01mraise\u001b[39;00m \u001b[38;5;167;01mKeyError\u001b[39;00m(\u001b[38;5;124mf\u001b[39m\u001b[38;5;124m\"\u001b[39m\u001b[38;5;124mNone of [\u001b[39m\u001b[38;5;132;01m{\u001b[39;00mkey\u001b[38;5;132;01m}\u001b[39;00m\u001b[38;5;124m] are in the [\u001b[39m\u001b[38;5;132;01m{\u001b[39;00maxis_name\u001b[38;5;132;01m}\u001b[39;00m\u001b[38;5;124m]\u001b[39m\u001b[38;5;124m\"\u001b[39m)\n\u001b[1;32m   5937\u001b[0m not_found \u001b[38;5;241m=\u001b[39m \u001b[38;5;28mlist\u001b[39m(ensure_index(key)[missing_mask\u001b[38;5;241m.\u001b[39mnonzero()[\u001b[38;5;241m0\u001b[39m]]\u001b[38;5;241m.\u001b[39munique())\n\u001b[0;32m-> 5938\u001b[0m \u001b[38;5;28;01mraise\u001b[39;00m \u001b[38;5;167;01mKeyError\u001b[39;00m(\u001b[38;5;124mf\u001b[39m\u001b[38;5;124m\"\u001b[39m\u001b[38;5;132;01m{\u001b[39;00mnot_found\u001b[38;5;132;01m}\u001b[39;00m\u001b[38;5;124m not in index\u001b[39m\u001b[38;5;124m\"\u001b[39m)\n",
      "\u001b[0;31mKeyError\u001b[0m: '[\\'multiple endocrine neoplasia type 1|multiple endocrine neoplasia type 1\\', \\'Leber congenital amaurosis 5|Leber congenital amaurosis 5\\', \\'microvillus inclusion disease|microvillus inclusion disease\\', \\'Nephronophthisis|nephronophthisis 1\\', \\'periostitis|periostitis\\', \\'neuronal ceroid lipofuscinosis 8|neuronal ceroid lipofuscinosis 8\\', \\'neuronal ceroid lipofuscinosis 3|neuronal ceroid lipofuscinosis 3\\', \\'Rhipicephalus <genus>|Rhipicephalus <subgenus>\\', \\'mast syndrome|mast syndrome\\', \\'enuresis|enuresis\\', \\'Gonadal dysgenesis|45,X/46,XY mixed gonadal dysgenesis\\', \\'Anopheles funestus|Anopheles gambiae\\', \\'Meckel diverticulum|Meckel diverticulum\\', \\'pneumocystosis|pneumocystosis\\', \\'von Hippel-Lindau disease|von Hippel-Lindau disease\\', \\'pulmonary arterial hypertension|pulmonary arterial hypertension\\', \\'material anatomical entity|material anatomical entity\\', \\'Bos taurus|Bos taurus\\', \\'Duchenne muscular dystrophy|Duchenne muscular dystrophy\\', \\'familial hemophagocytic lymphohistiocytosis type 1|familial hemophagocytic lymphohistiocytosis type 1\\', \\'late infantile neuronal ceroid lipofuscinosis|neuronal ceroid lipofuscinosis, late infantile\\', \\'immaterial anatomical entity|immaterial anatomical entity\\', \\'Bardet-Biedl syndrome 4|Bardet-Biedl syndrome 4\\', \\'Bardet-Biedl syndrome 1|Bardet-Biedl syndrome 1\\', \\'Bardet-Biedl syndrome 2|Bardet-Biedl syndrome 2\\', \\'Bardet-Biedl syndrome 5|Bardet-Biedl syndrome 5\\', \\'Bardet-Biedl syndrome 7|Bardet-Biedl syndrome 7\\', \\'Bardet-Biedl syndrome 9|Bardet-Biedl syndrome 9\\', \\'persistent truncus arteriosus|persistent truncus arteriosus\\', \\'hard palate cancer|hard palate cancer\\', \\'nephronophthisis 4|nephronophthisis 4\\', \\'neurofibromatosis type 2|neurofibromatosis type 2\\', \\'neurofibromatosis type 1|neurofibromatosis type 1\\', \\'nephronophthisis 3|nephronophthisis 3\\', \\'nephronophthisis 1|nephronophthisis 1\\', \\'Wolfram syndrome 1|Wolfram syndrome 1\\', \\'oculocutaneous albinism type 2|oculocutaneous albinism type 2\\', \\'Bardet-Biedl syndrome 12|Bardet-Biedl syndrome 12\\', \\'Bardet-Biedl syndrome 10|Bardet-Biedl syndrome 10\\', \\'Thiel-Behnke corneal dystrophy|Thiel-Behnke corneal dystrophy\\', \\'Fanconi anemia complementation group I|Fanconi anemia complementation group I\\', \\'quality|quality\\', \\'oculocerebrorenal syndrome|oculocerebrorenal syndrome\\', \\'IgE responsiveness, atopic|IgE responsiveness, atopic\\', \\'orofaciodigital syndrome I|orofaciodigital syndrome I\\', \\'pericardial effusion|pericardial effusion\\', \\'alpha-methylacyl-CoA racemase deficiency|alpha-methylacyl-CoA racemase deficiency\\', \\'circular|circular\\', \\'hypersensitivity pneumonitis|hypersensitivity pneumonitis\\', \\'reproductive behavior|reproductive behavior\\', \\'xeroderma pigmentosum group C|xeroderma pigmentosum group C\\', \\'type IV hypersensitivity|type IV hypersensitivity disease\\', \\'xeroderma pigmentosum group A|xeroderma pigmentosum group A\\', \\'chronic eosinophilic leukemia|chronic eosinophilic leukemia\\', \\'hepatitis|hepatitis\\', \\'Drosophila <flies,genus>|Drosophila melanogaster\\', \\'elevation|elevation\\', \\'Neoplasm of the ear|ear neoplasm\\', \\'social behavior|social behavior\\', \\'Meckel syndrome, type 1|Meckel syndrome, type 1\\', \\'carnitine palmitoyltransferase II deficiency|carnitine palmitoyltransferase II deficiency\\', \\'Fanconi anemia complementation group F|Fanconi anemia complementation group F\\', \\'Fanconi anemia complementation group G|Fanconi anemia complementation group G\\', \\'Fanconi anemia complementation group E|Fanconi anemia complementation group E|Fanconi anemia complementation group E\\', \\'Fanconi anemia complementation group C|Fanconi anemia complementation group C\\', \\'Fanconi anemia complementation group B|Fanconi anemia complementation group B\\', \\'Fanconi anemia complementation group A|Fanconi anemia complementation group A\\', \\'Ebstein anomaly of the tricuspid valve|Ebstein anomaly\\', \\'Wieacker-Wolff syndrome|mast cell sarcoma\\', \\'Papillon-Lefevre disease|lateral sclerosis|pleomorphic liposarcoma\\', \\'membrane attack complex|microphthalmia, isolated, with coloboma\\', \\'Wiskott-Aldrich syndrome|Wiskott-Aldrich syndrome\\', \\'thyroid hyalinizing trabecular adenoma|thyroid hyalinizing trabecular adenoma\\', \\'Fanconi anemia complementation group L|Fanconi anemia complementation group L\\', \\'Sjogren-Larsson syndrome|shrinking lung syndrome\\', \\'Silver-Russell syndrome|syndromic X-linked intellectual disability Snyder type\\', \\'sick sinus syndrome|hypoparathyroidism-retardation-dysmorphism syndrome\\', \\'Coffin-Siris syndrome|eosinophilic granulomatosis with polyangiitis\\', \\'Mus <genus>|Mus <subgenus>\\', \\'anatomical entity|anatomical entity\\', \\'congenital rubella syndrome|cytokine release syndrome\\', \\'heart lymphoma|plasma cell leukemia\\', \\'capillary leak syndrome|Coffin-Lowry syndrome\\', \\'meconium aspiration syndrome|macrophage activation syndrome|McCune-Albright syndrome\\', \\'hereditary spastic paraplegia 7|hereditary spastic paraplegia 7\\', \\'acute chest syndrome|acrocallosal syndrome|acrocephalosyndactyly\\', \\'hepatitis D virus infection|Hepatitis delta virus\\', \\'Fanconi anemia complementation group D2|Fanconi anemia complementation group D2\\', \\'hereditary retinoblastoma|hereditary retinoblastoma\\', \\'agammaglobulinemia|agammaglobulinemia\\', \\'Phlebotomus <genus>|Phlebotomus <subgenus>\\', \\'cerebral cavernous malformation 2|cerebral cavernous malformation 2\\', \\'partial atrioventricular canal|atrial septal defect, ostium primum type\\', \\'Suidae|Sus scrofa\\', \\'familial isolated pituitary adenoma|gastrointestinal defects and immunodeficiency syndrome 1\\', \\'PLA2G6-associated neurodegeneration|neurodegeneration with brain iron accumulation 2A\\', \\'immunodeficiency 19|immunodeficiency 19\\', \\'polycystic kidney disease 2|polycystic kidney disease 2\\', \\'polycystic kidney disease 1|polycystic kidney disease 1\\', \\'epididymitis|epididymitis\\', \\'Lyme disease|Lyme disease\\', \\'Mus <genus>|Mus musculus\\', \\'autism susceptibility 1|autism, susceptibility to, 1\\', \\'choroideremia|choroideremia\\', \\'adrenomyeloneuropathy|adrenomyeloneuropathy\\', \\'brachial amyotrophic diplegia|brachial amyotrophic diplegia\\', \\'Niemann-Pick disease, type C2|Niemann-Pick disease, type C2\\', \\'Chondrichthyes|Actinopterygii\\', \\'Usher syndrome type 2A|Usher syndrome type 2A\\', \\'retinitis pigmentosa 2|retinitis pigmentosa 2\\', \\'retinitis pigmentosa 1|retinitis pigmentosa 1\\', \\'Usher syndrome type 1G|Usher syndrome type 1G\\', \\'retinitis pigmentosa 9|retinitis pigmentosa 9\\', \\'spinocerebellar ataxia type 15/16|autosomal recessive spinocerebellar ataxia 16\\', \\'Usher syndrome type 1C|Usher syndrome type 1C\\', \\'Ebstein anomaly|Ebstein anomaly\\', \\'G6PD deficiency|G6PD deficiency\\', \\'hirudiniasis|Hirudinea\\', \\'ammonia|ammonia|ammonia\\', \\'neuron projection bundle|neuron projection bundle\\', \\'Central nervous system cyst|central nervous system cyst\\', \\'Brain atrophy|cerebellar degeneration\\', \\'Pediculidae|Pediculus humanus\\', \\'Abnormality of the pituitary gland|pituitary gland disorder\\', \\'behavior|behavior process\\', \\'Timothy syndrome|virus-associated trichodysplasia spinulosa\\', \\'Langerhans cell|laryngotracheoesophageal cleft\\', \\'Bartter disease type 4a|Bartter disease type 4a\\', \\'acute kidney failure|rheumatic fever\\', \\'lymphocytic choriomeningitis|mantle cell lymphoma\\', \\'macular corneal dystrophy|multiple carboxylase deficiency|multicentric Castleman disease|multicentric Castleman disease, susceptibility to\\', \\'X-linked erythropoietic protoporphyria|X-linked lymphoproliferative syndrome\\', \\'septooptic dysplasia|segmental odontomaxillary dysplasia\\', \\'Autistic behavior|atrial septal defect\\', \\'myopathy, lactic acidosis, and sideroblastic anemia|multiple system atrophy\\', \\'premature centromere division|primary ciliary dyskinesia|paraneoplastic neurologic syndrome\\', \\'undifferentiated (embryonal) sarcoma|undifferentiated embryonal sarcoma of the liver\\', \\'arthrogryposis, distal, type 1A|arthrogryposis multiplex congenita\\', \\'pulmonary interstitial glycogenosis|Sus scrofa\\', \\'well-differentiated liposarcoma|atypical lipomatous tumor\\', \\'Schwartz-Jampel syndrome|Mac-Leod-Swyer-James-Syndrome\\', \\'childhood apraxia of speech|cold agglutinin disease\\', \\'Langerhans cell histiocytosis|lissencephaly with cerebellar hypoplasia\\', \\'pustulosis palmaris et plantaris|lichen planopilaris\\', \\'chylomicron retention disease|cone-rod dystrophy\\', \\'paroxysmal cold hemoglobinuria|pontocerebellar hypoplasia\\', \\'Chediak-Higashi syndrome|cannabinoid hyperemesis syndrome\\', \\'Systemic lupus erythematosus|systemic lupus erythematosus\\', \\'Shprintzen-Goldberg syndrome|Schinzel-Giedion syndrome\\', \\'Laurence-Moon syndrome|limb-mammary syndrome\\', \\'severe combined immunodeficiency, autosomal recessive, T cell-negative, B cell-negative, NK cell-negative, due to adenosine deaminase deficiency|severe combined immunodeficiency, autosomal recessive, T cell-negative, B cell-negative, NK cell-negative, due to adenosine deaminase deficiency\\', \\'chronic inflammatory demyelinating polyradiculoneuropathy|polyneuropathy, inflammatory demyelinating, chronic\\', \\'role|role\\', \\'chronic obstructive pulmonary disease|decreased temperature\\', \\'transposition of the great arteries, dextro-looped|dextro-looped transposition of the great arteries\\', \\'alcohol-related birth defect|fetal alcohol syndrome\\', \\'X-linked cone-rod dystrophy 1|cone dystrophy 1, X-linked\\', \\'Kennedy disease|bulbospinal muscular atrophy\\', \\'Guillain-Barre syndrome, familial|acute inflammatory demyelinating polyradiculoneuropathy\\', \\'interstitial granulomatous dermatitis with arthritis|anterior segment dysgenesis 3\\', \\'hyperimmunoglobulinemia D with periodic fever|mevalonic aciduria\\', \\'GNE myopathy|myopathy, distal, with rimmed vacuoles\\', \\'Rattus|Rattus norvegicus\\', \\'ocular albinism|X-linked recessive ocular albinism\\', \\'testicular germ cell tumor|tenosynovial giant cell tumor, diffuse type\\', \\'3-methylglutaconic aciduria type 1|Imerslund-Grasbeck syndrome type 1\\', \\'acene|acene\\', \\'horizontal gaze palsy with progressive scoliosis|gaze palsy, familial horizontal, with progressive scoliosis 1\\', \\'autosomal recessive pseudohypoaldosteronism type 1|pseudohypoaldosteronism type 1\\', \\'Culex <subgenus>|Culex <genus>\\', \\'Dextrotransposition of the great arteries|dextro-looped transposition of the great arteries\\', \\'Charcot-Marie-Tooth disease axonal type 2T|Charcot-Marie-Tooth disease type 2T\\', \\'Charcot-Marie-Tooth disease X-linked recessive 4|Charcot-Marie-Tooth disease type X\\', \\'anthrax infection|Bacillus anthracis\\', \\'azanide|azanide\\', \\'food additive|food additive\\', \\'diabetes mellitus|dermatomyositis\\', \"Kaposi\\'s sarcoma|Kindler syndrome\", \\'Ewing sarcoma|epithelioid sarcoma\\', \\'osteochondritis dissecans|short stature and advanced bone age, with or without early-onset osteoarthritis and/or osteochondritis dissecans\\', \\'mycosis fungoides|myotonia fluctuans\\', \\'polymyositis|pyomyositis\\', \\'Rheumatoid arthritis|myelodysplastic syndrome with single lineage dysplasia|rheumatoid arthritis\\', \\'hereditary spastic paraplegia|immunoglobulin a vasculitis\\', \\'conventional dendritic cell|collecting duct carcinoma\\', \\'irritable bowel syndrome|inflammatory bowel disease\\', \\'campomelic dysplasia|congenital muscular dystrophy|coronary microvascular disorder\\', \\'obsessive-compulsive personality disorder|osteochondritis dissecans\\', \\'vitelliform macular dystrophy 2|Becker muscular dystrophy\\', \\'neuroendocrine carcinoma|necrotizing enterocolitis\\', \\'borderline personality disorder|bronchopulmonary dysplasia\\', \\'autosomal recessive inherited pseudoxanthoma elasticum|pseudoxanthoma elasticum (inherited or acquired)\\', \\'renal cell carcinoma|renal cell adenocarcinoma|refractory cytopenia of childhood\\', \\'congenital contractural arachnodactyly|cholangiocarcinoma\\', \\'Waterhouse-Friderichsen syndrome|Wolfram syndrome\\', \\'osteofibrous dysplasia|orofaciodigital syndrome\\', \\'autoimmune hemolytic anemia|acquired hemophilia A\\', \\'granulomatous disease, chronic, X-linked|chronic granulomatous disease\\', \\'temporomandibular joint disorder|transient myeloproliferative syndrome|tibial muscular dystrophy\\', \\'thymic epithelial neoplasm|toxic epidermal necrolysis\\', \\'Fuchs heterochromic iridocyclitis|familial hyperinsulinism\\', \\'Congestive heart failure|congestive heart failure\\', \\'hereditary diffuse gastric adenocarcinoma|CDH1-related diffuse gastric and lobular breast cancer\\'] not in index'"
     ]
    }
   ],
   "source": [
    "disease_bionty.fuzzy_match(\"Multipla sclurosis\", field=disease_bionty.name, case_sensitive=False)"
   ]
  },
  {
   "cell_type": "code",
   "execution_count": 38,
   "id": "7a84600e-43e6-4115-bbdc-ae2ac3bcd9ff",
   "metadata": {
    "tags": []
   },
   "outputs": [
    {
     "data": {
      "text/plain": [
       "disease(ontology_id='MONDO:0005301', name='multiple sclerosis', definition='A Progressive Autoimmune Disorder Affecting The Central Nervous System Resulting In Demyelination. Patients Develop Physical And Cognitive Impairments That Correspond With The Affected Nerve Fibers.', synonyms=None, children=array(['MONDO:0005314', 'MONDO:0005284'], dtype=object))"
      ]
     },
     "execution_count": 38,
     "metadata": {},
     "output_type": "execute_result"
    }
   ],
   "source": [
    "disease_bionty_lookup.multiple_sclerosis"
   ]
  },
  {
   "cell_type": "markdown",
   "id": "b71eb051-d388-4587-8def-54cbad53d6ed",
   "metadata": {},
   "source": [
    "Now we can finally replace the values of our obs column with the MONDO Disease ontology values."
   ]
  },
  {
   "cell_type": "code",
   "execution_count": 39,
   "id": "0a862857-929f-4e0a-97b4-2e84a695a2a8",
   "metadata": {
    "tags": []
   },
   "outputs": [
    {
     "data": {
      "text/plain": [
       "0    Rheumatoid arthritis\n",
       "1          celiac disease\n",
       "2      multiple sclerosis\n",
       "Name: Immune system disorders, dtype: object"
      ]
     },
     "execution_count": 39,
     "metadata": {},
     "output_type": "execute_result"
    }
   ],
   "source": [
    "adata.obs[\"Immune system disorders\"] = [adata.obs[\"Immune system disorders\"][0],\n",
    "                                       disease_bionty_lookup.celiac_disease.name,\n",
    "                                       disease_bionty_lookup.multiple_sclerosis.name]\n",
    "adata.obs[\"Immune system disorders\"]"
   ]
  },
  {
   "cell_type": "code",
   "execution_count": 40,
   "id": "c70b961d-d483-44ed-8f7b-575cb18265a3",
   "metadata": {
    "tags": []
   },
   "outputs": [
    {
     "name": "stdout",
     "output_type": "stream",
     "text": [
      "✅ 3 terms (100.0%) are mapped.\n",
      "🔶 0 terms (0.0%) are not mapped.\n"
     ]
    },
    {
     "data": {
      "text/html": [
       "<div>\n",
       "<style scoped>\n",
       "    .dataframe tbody tr th:only-of-type {\n",
       "        vertical-align: middle;\n",
       "    }\n",
       "\n",
       "    .dataframe tbody tr th {\n",
       "        vertical-align: top;\n",
       "    }\n",
       "\n",
       "    .dataframe thead th {\n",
       "        text-align: right;\n",
       "    }\n",
       "</style>\n",
       "<table border=\"1\" class=\"dataframe\">\n",
       "  <thead>\n",
       "    <tr style=\"text-align: right;\">\n",
       "      <th></th>\n",
       "      <th>__mapped__</th>\n",
       "    </tr>\n",
       "    <tr>\n",
       "      <th>Immune system disorders</th>\n",
       "      <th></th>\n",
       "    </tr>\n",
       "  </thead>\n",
       "  <tbody>\n",
       "    <tr>\n",
       "      <th>Rheumatoid arthritis</th>\n",
       "      <td>True</td>\n",
       "    </tr>\n",
       "    <tr>\n",
       "      <th>celiac disease</th>\n",
       "      <td>True</td>\n",
       "    </tr>\n",
       "    <tr>\n",
       "      <th>multiple sclerosis</th>\n",
       "      <td>True</td>\n",
       "    </tr>\n",
       "  </tbody>\n",
       "</table>\n",
       "</div>"
      ],
      "text/plain": [
       "                         __mapped__\n",
       "Immune system disorders            \n",
       "Rheumatoid arthritis           True\n",
       "celiac disease                 True\n",
       "multiple sclerosis             True"
      ]
     },
     "execution_count": 40,
     "metadata": {},
     "output_type": "execute_result"
    }
   ],
   "source": [
    "disease_bionty.inspect(adata.obs[\"Immune system disorders\"], field=disease_bionty.name, return_df=True)"
   ]
  },
  {
   "cell_type": "markdown",
   "id": "c7a08e5e-039e-40ba-bf5d-2997a3a16c52",
   "metadata": {},
   "source": [
    "Voilà, all of our immune system disorders are mapped against the ontology. We could now repeat this process for all other columns."
   ]
  },
  {
   "cell_type": "markdown",
   "id": "8974c126-55c0-4d97-8889-39e396fc21ea",
   "metadata": {},
   "source": [
    "## Mapping against the Disease Ontology with Bionty"
   ]
  },
  {
   "cell_type": "markdown",
   "id": "9bb095a1-da4f-4f71-a8e6-d08459b27a8c",
   "metadata": {},
   "source": [
    "Bionty supports other ontologies besides the MONDO Disease Ontology like the [Disease Ontology](https://disease-ontology.org/). The workflow here is very similar.\n",
    "\n",
    "We solely need to adapt the source and the version."
   ]
  },
  {
   "cell_type": "code",
   "execution_count": 12,
   "id": "1227ca5f-80b9-491c-a7e4-dd309c599fd9",
   "metadata": {},
   "outputs": [],
   "source": [
    "disease_bionty = bt.Disease(source=\"doid\", version=\"2023-01-30\")"
   ]
  },
  {
   "cell_type": "markdown",
   "id": "226ad0a8-bd1e-4eb3-baf9-11402123a57c",
   "metadata": {},
   "source": [
    "The remaining workflow would be the same as above."
   ]
  },
  {
   "cell_type": "markdown",
   "id": "19bc232b-cd44-4505-a31f-ee65e37d29f6",
   "metadata": {},
   "source": [
    "## Conclusion"
   ]
  },
  {
   "cell_type": "markdown",
   "id": "7a15db25-70ea-4d0a-b7a4-49f2d4e35e1f",
   "metadata": {},
   "source": [
    "ehrapy provides support for ontology management, inspection and mapping through [Bionty](https://github.com/laminlabs/bionty).\n",
    "Bionty provide access to ontologies such as [https://mondo.monarchinitiative.org/](MONDO Disease Ontology), [Disease Ontology](https://disease-ontology.org/) and many others.\n",
    "To access these ontologies we create a Bionty Disease objects that have class functions to map synonyms and to inspect data for adherence against ontologies.\n",
    "Mismatches can be remedied by finding the actual correct ontology name using lookup objects or fuzzy matching."
   ]
  },
  {
   "cell_type": "code",
   "execution_count": null,
   "id": "c4847feb-7bd9-4f6d-859d-0a7af1cb9a25",
   "metadata": {},
   "outputs": [],
   "source": []
  },
  {
   "cell_type": "markdown",
   "id": "4e429ad3-a1d4-498f-8d3c-959b364152e6",
   "metadata": {},
   "source": [
    "{func}`lamin:bionty.Gene.df`"
   ]
  },
  {
   "cell_type": "code",
   "execution_count": null,
   "id": "69f8ad3e-83f5-4fde-9716-be161db888df",
   "metadata": {},
   "outputs": [],
   "source": []
  }
 ],
 "metadata": {
  "kernelspec": {
   "display_name": "Python 3 (ipykernel)",
   "language": "python",
   "name": "python3"
  },
  "language_info": {
   "codemirror_mode": {
    "name": "ipython",
    "version": 3
   },
   "file_extension": ".py",
   "mimetype": "text/x-python",
   "name": "python",
   "nbconvert_exporter": "python",
   "pygments_lexer": "ipython3",
   "version": "3.10.11"
  }
 },
 "nbformat": 4,
 "nbformat_minor": 5
}
