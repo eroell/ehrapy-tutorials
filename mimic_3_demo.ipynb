{
 "cells": [
  {
   "cell_type": "code",
   "execution_count": 1,
   "id": "6cfd5fb8-7c32-4dba-b050-4be1c5bb5e38",
   "metadata": {},
   "outputs": [
    {
     "data": {
      "text/html": [
       "<pre style=\"white-space:pre;overflow-x:auto;line-height:normal;font-family:Menlo,'DejaVu Sans Mono',consolas,'Courier New',monospace\"><span style=\"color: #800000; text-decoration-color: #800000; font-weight: bold\">Unable to contact PyPI to check for the latest ehrapy version. Do you have an internet </span>\n",
       "<span style=\"color: #800000; text-decoration-color: #800000; font-weight: bold\">connection?</span>\n",
       "</pre>\n"
      ],
      "text/plain": [
       "\u001b[1;31mUnable to contact PyPI to check for the latest ehrapy version. Do you have an internet \u001b[0m\n",
       "\u001b[1;31mconnection?\u001b[0m\n"
      ]
     },
     "metadata": {},
     "output_type": "display_data"
    },
    {
     "name": "stderr",
     "output_type": "stream",
     "text": [
      "/home/zeth/miniconda3/envs/ehrapy/lib/python3.8/site-packages/medcat/cat.py:13: TqdmExperimentalWarning: Using `tqdm.autonotebook.tqdm` in notebook mode. Use `tqdm.tqdm` instead to force console mode (e.g. in jupyter console)\n",
      "  from tqdm.autonotebook import tqdm\n"
     ]
    },
    {
     "data": {
      "text/html": [
       "<pre style=\"white-space:pre;overflow-x:auto;line-height:normal;font-family:Menlo,'DejaVu Sans Mono',consolas,'Courier New',monospace\"><span style=\"color: #808000; text-decoration-color: #808000; font-weight: bold\">Model en_core_sci_sm is not installed. Refer to the ehrapy installation instructions if </span>\n",
       "<span style=\"color: #808000; text-decoration-color: #808000; font-weight: bold\">required.</span>\n",
       "</pre>\n"
      ],
      "text/plain": [
       "\u001b[1;33mModel en_core_sci_sm is not installed. Refer to the ehrapy installation instructions if \u001b[0m\n",
       "\u001b[1;33mrequired.\u001b[0m\n"
      ]
     },
     "metadata": {},
     "output_type": "display_data"
    },
    {
     "data": {
      "text/html": [
       "<pre style=\"white-space:pre;overflow-x:auto;line-height:normal;font-family:Menlo,'DejaVu Sans Mono',consolas,'Courier New',monospace\"><span style=\"color: #808000; text-decoration-color: #808000; font-weight: bold\">Model en_core_sci_md is not installed. Refer to the ehrapy installation instructions if </span>\n",
       "<span style=\"color: #808000; text-decoration-color: #808000; font-weight: bold\">required.</span>\n",
       "</pre>\n"
      ],
      "text/plain": [
       "\u001b[1;33mModel en_core_sci_md is not installed. Refer to the ehrapy installation instructions if \u001b[0m\n",
       "\u001b[1;33mrequired.\u001b[0m\n"
      ]
     },
     "metadata": {},
     "output_type": "display_data"
    }
   ],
   "source": [
    "import ehrapy.api as ep"
   ]
  },
  {
   "cell_type": "code",
   "execution_count": 7,
   "id": "55c7bc26-727a-4905-b607-fc3541555e09",
   "metadata": {},
   "outputs": [
    {
     "data": {
      "text/html": [
       "<pre style=\"white-space:pre;overflow-x:auto;line-height:normal;font-family:Menlo,'DejaVu Sans Mono',consolas,'Courier New',monospace\"><span style=\"color: #808000; text-decoration-color: #808000; font-weight: bold\">Path or dataset does not yet exist. Attempting to download...</span>\n",
       "</pre>\n"
      ],
      "text/plain": [
       "\u001b[1;33mPath or dataset does not yet exist. Attempting to download\u001b[0m\u001b[1;33m...\u001b[0m\n"
      ]
     },
     "metadata": {},
     "output_type": "display_data"
    }
   ],
   "source": [
    "adatas = ep.dt.mimic_3_demo(encoded=False, mudata=False)"
   ]
  },
  {
   "cell_type": "code",
   "execution_count": 8,
   "id": "cbbd7855-51ca-4771-9dd0-26483868bdd0",
   "metadata": {},
   "outputs": [
    {
     "data": {
      "text/plain": [
       "{'DRGCODES': AnnData object with n_obs × n_vars = 297 × 8\n",
       "     layers: 'original',\n",
       " 'CAREGIVERS': AnnData object with n_obs × n_vars = 7567 × 4\n",
       "     layers: 'original',\n",
       " 'INPUTEVENTS_CV': AnnData object with n_obs × n_vars = 34799 × 20\n",
       "     obs: 'charttime', 'storetime'\n",
       "     layers: 'original',\n",
       " 'D_ICD_PROCEDURES': AnnData object with n_obs × n_vars = 3882 × 4\n",
       "     layers: 'original',\n",
       " 'CALLOUT': AnnData object with n_obs × n_vars = 77 × 18\n",
       "     obs: 'createtime', 'updatetime', 'acknowledgetime', 'outcometime', 'firstreservationtime', 'currentreservationtime'\n",
       "     layers: 'original',\n",
       " 'LABEVENTS': AnnData object with n_obs × n_vars = 76074 × 8\n",
       "     obs: 'charttime'\n",
       "     layers: 'original',\n",
       " 'PRESCRIPTIONS': AnnData object with n_obs × n_vars = 10398 × 17\n",
       "     obs: 'startdate', 'enddate'\n",
       "     layers: 'original',\n",
       " 'DATETIMEEVENTS': AnnData object with n_obs × n_vars = 15551 × 11\n",
       "     obs: 'charttime', 'storetime', 'value'\n",
       "     layers: 'original',\n",
       " 'INPUTEVENTS_MV': AnnData object with n_obs × n_vars = 13224 × 27\n",
       "     obs: 'starttime', 'endtime', 'storetime', 'comments_date'\n",
       "     layers: 'original',\n",
       " 'CPTEVENTS': AnnData object with n_obs × n_vars = 1579 × 11\n",
       "     obs: 'chartdate'\n",
       "     layers: 'original',\n",
       " 'D_LABITEMS': AnnData object with n_obs × n_vars = 753 × 6\n",
       "     layers: 'original',\n",
       " 'DIAGNOSES_ICD': AnnData object with n_obs × n_vars = 1761 × 5\n",
       "     layers: 'original',\n",
       " 'D_ITEMS': AnnData object with n_obs × n_vars = 12487 × 10\n",
       "     layers: 'original',\n",
       " 'D_CPT': AnnData object with n_obs × n_vars = 134 × 9\n",
       "     layers: 'original',\n",
       " 'PROCEDURES_ICD': AnnData object with n_obs × n_vars = 506 × 5\n",
       "     layers: 'original',\n",
       " 'OUTPUTEVENTS': AnnData object with n_obs × n_vars = 11320 × 11\n",
       "     obs: 'charttime', 'storetime'\n",
       "     layers: 'original',\n",
       " 'CHARTEVENTS': AnnData object with n_obs × n_vars = 758355 × 13\n",
       "     obs: 'charttime', 'storetime'\n",
       "     layers: 'original',\n",
       " 'NOTEEVENTS': AnnData object with n_obs × n_vars = 0 × 0\n",
       "     obs: 'row_id', 'subject_id', 'hadm_id', 'chartdate', 'charttime', 'storetime', 'category', 'description', 'cgid', 'iserror', 'text'\n",
       "     layers: 'original',\n",
       " 'ICUSTAYS': AnnData object with n_obs × n_vars = 136 × 10\n",
       "     obs: 'intime', 'outtime'\n",
       "     layers: 'original',\n",
       " 'MICROBIOLOGYEVENTS': AnnData object with n_obs × n_vars = 2003 × 14\n",
       "     obs: 'chartdate', 'charttime'\n",
       "     layers: 'original',\n",
       " 'D_ICD_DIAGNOSES': AnnData object with n_obs × n_vars = 14567 × 4\n",
       "     layers: 'original',\n",
       " 'ADMISSIONS': AnnData object with n_obs × n_vars = 129 × 14\n",
       "     obs: 'admittime', 'dischtime', 'deathtime', 'edregtime', 'edouttime'\n",
       "     layers: 'original',\n",
       " 'PROCEDUREEVENTS_MV': AnnData object with n_obs × n_vars = 753 × 21\n",
       "     obs: 'starttime', 'endtime', 'storetime', 'comments_date'\n",
       "     layers: 'original',\n",
       " 'PATIENTS': AnnData object with n_obs × n_vars = 100 × 4\n",
       "     obs: 'dob', 'dod', 'dod_hosp', 'dod_ssn'\n",
       "     layers: 'original',\n",
       " 'TRANSFERS': AnnData object with n_obs × n_vars = 524 × 11\n",
       "     obs: 'intime', 'outtime'\n",
       "     layers: 'original',\n",
       " 'SERVICES': AnnData object with n_obs × n_vars = 163 × 5\n",
       "     obs: 'transfertime'\n",
       "     layers: 'original'}"
      ]
     },
     "execution_count": 8,
     "metadata": {},
     "output_type": "execute_result"
    }
   ],
   "source": [
    "adatas"
   ]
  },
  {
   "cell_type": "code",
   "execution_count": null,
   "id": "7a9ac19b-ff78-4bba-b17e-c1b56d041880",
   "metadata": {},
   "outputs": [],
   "source": []
  }
 ],
 "metadata": {
  "kernelspec": {
   "display_name": "Python 3 (ipykernel)",
   "language": "python",
   "name": "python3"
  },
  "language_info": {
   "codemirror_mode": {
    "name": "ipython",
    "version": 3
   },
   "file_extension": ".py",
   "mimetype": "text/x-python",
   "name": "python",
   "nbconvert_exporter": "python",
   "pygments_lexer": "ipython3",
   "version": "3.8.12"
  }
 },
 "nbformat": 4,
 "nbformat_minor": 5
}
